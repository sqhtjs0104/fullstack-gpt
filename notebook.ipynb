{
 "cells": [
  {
   "cell_type": "code",
   "execution_count": 1,
   "metadata": {},
   "outputs": [
    {
     "name": "stdout",
     "output_type": "stream",
     "text": [
      "About 'The Batman'\n",
      "Directed by:  Matt Reeves\n",
      "Starring:     Robert Pattinson\n",
      "              Zoe Kravitz\n",
      "              Paul Dano\n",
      "              Jeffrey Wright\n",
      "              Colin Farrell\n",
      "Budget:       $180 million (estimated)\n",
      "Box office:   $1.1 billion (projected)\n",
      "Release date: March 4, 2022\n",
      "\n",
      "'The Batman' is a dark and gritty reboot of the iconic superhero franchise, focusing on a younger and more brooding version of the Caped Crusader. Robert Pattinson stars as Bruce Wayne/Batman, who is still in the early stages of his crime-fighting career and is grappling with his own inner demons. The film follows Batman as he investigates a series of gruesome murders in Gotham City, leading him to confront the enigmatic serial killer known as The Riddler, played by Paul Dano. Zoe Kravitz portrays Selina Kyle/Catwoman, a skilled thief who becomes entangled in Batman's quest for justice. With a stellar cast, intense action sequences, and a dark and atmospheric tone, 'The Batman' offers a fresh and compelling take on the beloved superhero character."
     ]
    },
    {
     "data": {
      "text/plain": [
       "AIMessageChunk(content=\"About 'The Batman'\\nDirected by:  Matt Reeves\\nStarring:     Robert Pattinson\\n              Zoe Kravitz\\n              Paul Dano\\n              Jeffrey Wright\\n              Colin Farrell\\nBudget:       $180 million (estimated)\\nBox office:   $1.1 billion (projected)\\nRelease date: March 4, 2022\\n\\n'The Batman' is a dark and gritty reboot of the iconic superhero franchise, focusing on a younger and more brooding version of the Caped Crusader. Robert Pattinson stars as Bruce Wayne/Batman, who is still in the early stages of his crime-fighting career and is grappling with his own inner demons. The film follows Batman as he investigates a series of gruesome murders in Gotham City, leading him to confront the enigmatic serial killer known as The Riddler, played by Paul Dano. Zoe Kravitz portrays Selina Kyle/Catwoman, a skilled thief who becomes entangled in Batman's quest for justice. With a stellar cast, intense action sequences, and a dark and atmospheric tone, 'The Batman' offers a fresh and compelling take on the beloved superhero character.\")"
      ]
     },
     "execution_count": 1,
     "metadata": {},
     "output_type": "execute_result"
    }
   ],
   "source": [
    "from dotenv import load_dotenv\n",
    "import os\n",
    "\n",
    "load_dotenv()\n",
    "openai_api_key = os.getenv(\"OPENAI_API_KEY\")\n",
    "\n",
    "from langchain.chat_models import ChatOpenAI\n",
    "from langchain.prompts import ChatPromptTemplate\n",
    "from langchain.callbacks import StreamingStdOutCallbackHandler\n",
    "from langchain.prompts.few_shot import FewShotChatMessagePromptTemplate\n",
    "\n",
    "chat = ChatOpenAI(\n",
    "  model_name=\"gpt-3.5-turbo\",\n",
    "  openai_api_key=openai_api_key,\n",
    "  temperature=0.1,\n",
    "  streaming=True,\n",
    "  callbacks=[StreamingStdOutCallbackHandler()]\n",
    ")\n",
    "\n",
    "examples = [\n",
    "  {\n",
    "    \"movie\": \"The Matrix\",\n",
    "    \"answer\": \"\"\"\n",
    "    About 'The Matrix'\n",
    "    Produced by:  The Wachowskis\n",
    "    Starring:     Keanu Reeves\n",
    "                  Laurence Fishburne\n",
    "                  Carrie-Anne Moss\n",
    "                  Hugo Weaving\n",
    "                  Joe Pantoliano\n",
    "    Budget:       $63 million\n",
    "    Box office:   $467.6 million\n",
    "    \"\"\",\n",
    "  },\n",
    "  {\n",
    "    \"movie\": \"Cast Away\",\n",
    "    \"answer\": \"\"\"\n",
    "    About 'Cast Away'\n",
    "    Produced by:  Robert Zemeckis\n",
    "    Starring:     Tom Hanks\n",
    "                  Helen Hunt\n",
    "                  Nick Searcy\n",
    "    Budget:       $90 million\n",
    "    Box office:   $429.6 million\n",
    "    \"\"\",\n",
    "  },\n",
    "  {\n",
    "    \"movie\": \"WALL-E\",\n",
    "    \"answer\": \"\"\"\n",
    "    About 'WALL-E'\n",
    "    Produced by:  Andrew Stanton\n",
    "    Starring:     Ben Burtt\n",
    "                  Elissa Knight\n",
    "                  Jeff Garlin\n",
    "                  Fred Willard\n",
    "                  John Ratzenberger\n",
    "                  Kathy Najimy\n",
    "                  Sigourney Weaver\n",
    "    Budget:       $180 million\n",
    "    Box office:   $532.5 million\n",
    "      \"\"\",\n",
    "  },\n",
    "]\n",
    "\n",
    "example_prompt = ChatPromptTemplate.from_messages(\n",
    "    [\n",
    "        (\"human\", \"Can you explain me about {movie}?\"),\n",
    "        (\"ai\", \"{answer}\"),\n",
    "    ]\n",
    ")\n",
    "\n",
    "example_prompt = FewShotChatMessagePromptTemplate(\n",
    "    example_prompt=example_prompt,\n",
    "    examples=examples,\n",
    ")\n",
    "\n",
    "final_prompt = ChatPromptTemplate.from_messages(\n",
    "    [\n",
    "        (\"system\", \"You are a movie critic, explain the movie.\"),\n",
    "        example_prompt,\n",
    "        (\"human\", \"Can you explain me about {movie}?\"),\n",
    "    ]\n",
    ")\n",
    "\n",
    "chain = final_prompt | chat\n",
    "\n",
    "chain.invoke({\"movie\": \"The Batman\"})"
   ]
  }
 ],
 "metadata": {
  "kernelspec": {
   "display_name": "Python 3",
   "language": "python",
   "name": "python3"
  },
  "language_info": {
   "codemirror_mode": {
    "name": "ipython",
    "version": 3
   },
   "file_extension": ".py",
   "mimetype": "text/x-python",
   "name": "python",
   "nbconvert_exporter": "python",
   "pygments_lexer": "ipython3",
   "version": "3.11.6"
  }
 },
 "nbformat": 4,
 "nbformat_minor": 2
}
